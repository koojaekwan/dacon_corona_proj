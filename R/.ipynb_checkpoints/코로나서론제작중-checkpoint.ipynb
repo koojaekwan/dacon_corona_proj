{
 "cells": [
  {
   "cell_type": "markdown",
   "metadata": {},
   "source": [
    "# 코로나바이러스 COVID-19"
   ]
  },
  {
   "cell_type": "markdown",
   "metadata": {},
   "source": [
    "코로나바이러스 감염증-19 (약칭:COVID-19) 는 SARS-CoV-2 바이러스에 의해 발병하는 급성 호흡기 질환이다. SARS-CoV-2 는 2003년 사스, 2015년 메르스 바이러스와 같이 코로나바이러스 계열의 변종이다. 2019년 12월 12일 최초 보고되었으며 , 보고 내용에 따르면 2019년 12월 1일 중국 후베이성 우한시에서 첫 환자가 생겼다. 그러나 최초 발생 원인과 바이러스 전파 경로는 아직까지도 정확하게 밝혀지지 않았다.  \n",
    "\n",
    "2020년 1월부터는 전 세계로 퍼지기 시작하여, 남극과 일부 국가와 섬을 제외한 지구상 모든 대륙으로 확산되며 많은 감염자와 사망자를 기록하고 있다. 세계보건기구(WHO)는 2020년 1월 31일, 국제적 공중보건 비상사태를 선포했고, 2월 28일부로 코로나19의 전 세계 위험도를 **‘매우 높음’**으로 격상하였으며, 3월 11일 마침내 범유행전염병임을 선언했다.  \n",
    "\n",
    "<br>  \n",
    "\n"
   ]
  },
  {
   "cell_type": "markdown",
   "metadata": {},
   "source": [
    "미국질병통제예방센터에 따르면 잠복기는 2일에서 14일로, 평균 7일이다. 다만 이는 같은 코로나 바이러스의 일종이던 MERS를 참고로 한 것이기 때문에 정확하다고 보긴 힘들고, 이후 조사에서 SARS와 약 80%가 일치한다고 밝혀짐으로써 메르스보다는 전체적으로 사스와 유사할 가능성이 더 높다. 사스의 잠복기는 대략 2~7일이고 드물게 10일 전후까지 잠복되는 경우도 있다. 즉 메르스보다는 평균 사흘 정도 짧은 잠복기를 가진다.  \n",
    "\n",
    "초기 41명의 입원 환자들을 대상으로 발표된 연구에 따르면 보고된 증상은 발열(98%), 기침(76%), 호흡곤란(55%), 근육통(44%), 가래(28%), 두통(8%), 객혈(5%)이었다. 증상 모두가 너무 비특이적인 상기도 감염 증상들이어서, 환절기 감기와 혼동하지 않게 조심해야 한다. 또한 혈액 검사상 림프구 감소증(63%)과 백혈구 감소증(25%)이 나타난 사례도 있다.  \n",
    "\n",
    "지역별로 집계된 보고서에 따르면 후베이성에서의 치사율은 5%에 달할 정도로 높으나 이는 감염자가 많아서 의료시설이 포화상태에 이르러 치료가 제때 이루어지지 않아 높은 걸로 보이며 그 이외의 지역에서는 치사율 0.16%로 낮았다. 또한 중국은 증상이 약한 감염자는 집계하지 않기 때문에 치사율이 더 높게 보이는 것이라고 한다. 하지만 대한민국의 의료진은 감염력은 높다고 밝혔다.  "
   ]
  },
  {
   "cell_type": "markdown",
   "metadata": {},
   "source": [
    "![](../image/corona_image2.jpg)  \n",
    "\n",
    "<br>  \n",
    "<br>  \n"
   ]
  },
  {
   "cell_type": "markdown",
   "metadata": {},
   "source": [
    "어떤 내용추가해야  부드럽게 흘러갈까????"
   ]
  },
  {
   "cell_type": "markdown",
   "metadata": {},
   "source": [
    "## Library"
   ]
  },
  {
   "cell_type": "code",
   "execution_count": 12,
   "metadata": {},
   "outputs": [],
   "source": [
    "# manuluplate\n",
    "library(tidyverse)\n",
    "library(data.table)\n",
    "library(lubridate)\n",
    "\n",
    "\n",
    "# visualization\n",
    "library(plotly)\n",
    "library(maps)\n",
    "library(geosphere)  # network map\n",
    "library(visNetwork) # network map\n",
    "library(networkD3) # network map\n",
    "\n",
    "library(formattable)\n",
    "library(DT)\n",
    "library(ggthemes)"
   ]
  },
  {
   "cell_type": "code",
   "execution_count": 17,
   "metadata": {},
   "outputs": [],
   "source": [
    "case_dat <- fread(\"../data/Case.csv\")"
   ]
  },
  {
   "cell_type": "code",
   "execution_count": 18,
   "metadata": {},
   "outputs": [
    {
     "data": {
      "text/html": [
       "<table>\n",
       "<caption>A data.table: 6 × 8</caption>\n",
       "<thead>\n",
       "\t<tr><th scope=col>case_id</th><th scope=col>province</th><th scope=col>city</th><th scope=col>group</th><th scope=col>infection_case</th><th scope=col>confirmed</th><th scope=col>latitude</th><th scope=col>longitude</th></tr>\n",
       "\t<tr><th scope=col>&lt;int&gt;</th><th scope=col>&lt;chr&gt;</th><th scope=col>&lt;chr&gt;</th><th scope=col>&lt;lgl&gt;</th><th scope=col>&lt;chr&gt;</th><th scope=col>&lt;int&gt;</th><th scope=col>&lt;chr&gt;</th><th scope=col>&lt;chr&gt;</th></tr>\n",
       "</thead>\n",
       "<tbody>\n",
       "\t<tr><td>1000001</td><td>Seoul</td><td>Guro-gu      </td><td>TRUE</td><td>Guro-gu Call Center          </td><td>79</td><td>37.508163</td><td>126.884387</td></tr>\n",
       "\t<tr><td>1000002</td><td>Seoul</td><td>Dongdaemun-gu</td><td>TRUE</td><td>Dongan Church                </td><td>24</td><td>37.592888</td><td>127.056766</td></tr>\n",
       "\t<tr><td>1000003</td><td>Seoul</td><td>Eunpyeong-gu </td><td>TRUE</td><td>Eunpyeong St. Mary's Hospital</td><td>14</td><td>37.63369 </td><td>126.9165  </td></tr>\n",
       "\t<tr><td>1000004</td><td>Seoul</td><td>Seongdong-gu </td><td>TRUE</td><td>Seongdong-gu APT             </td><td>13</td><td>37.55713 </td><td>127.0403  </td></tr>\n",
       "\t<tr><td>1000005</td><td>Seoul</td><td>Jongno-gu    </td><td>TRUE</td><td>Jongno Community Center      </td><td>10</td><td>37.57681 </td><td>127.006   </td></tr>\n",
       "\t<tr><td>1000006</td><td>Seoul</td><td>Jung-gu      </td><td>TRUE</td><td>Jung-gu Fashion Company      </td><td> 7</td><td>37.562405</td><td>126.984377</td></tr>\n",
       "</tbody>\n",
       "</table>\n"
      ],
      "text/latex": [
       "A data.table: 6 × 8\n",
       "\\begin{tabular}{r|llllllll}\n",
       " case\\_id & province & city & group & infection\\_case & confirmed & latitude & longitude\\\\\n",
       " <int> & <chr> & <chr> & <lgl> & <chr> & <int> & <chr> & <chr>\\\\\n",
       "\\hline\n",
       "\t 1000001 & Seoul & Guro-gu       & TRUE & Guro-gu Call Center           & 79 & 37.508163 & 126.884387\\\\\n",
       "\t 1000002 & Seoul & Dongdaemun-gu & TRUE & Dongan Church                 & 24 & 37.592888 & 127.056766\\\\\n",
       "\t 1000003 & Seoul & Eunpyeong-gu  & TRUE & Eunpyeong St. Mary's Hospital & 14 & 37.63369  & 126.9165  \\\\\n",
       "\t 1000004 & Seoul & Seongdong-gu  & TRUE & Seongdong-gu APT              & 13 & 37.55713  & 127.0403  \\\\\n",
       "\t 1000005 & Seoul & Jongno-gu     & TRUE & Jongno Community Center       & 10 & 37.57681  & 127.006   \\\\\n",
       "\t 1000006 & Seoul & Jung-gu       & TRUE & Jung-gu Fashion Company       &  7 & 37.562405 & 126.984377\\\\\n",
       "\\end{tabular}\n"
      ],
      "text/markdown": [
       "\n",
       "A data.table: 6 × 8\n",
       "\n",
       "| case_id &lt;int&gt; | province &lt;chr&gt; | city &lt;chr&gt; | group &lt;lgl&gt; | infection_case &lt;chr&gt; | confirmed &lt;int&gt; | latitude &lt;chr&gt; | longitude &lt;chr&gt; |\n",
       "|---|---|---|---|---|---|---|---|\n",
       "| 1000001 | Seoul | Guro-gu       | TRUE | Guro-gu Call Center           | 79 | 37.508163 | 126.884387 |\n",
       "| 1000002 | Seoul | Dongdaemun-gu | TRUE | Dongan Church                 | 24 | 37.592888 | 127.056766 |\n",
       "| 1000003 | Seoul | Eunpyeong-gu  | TRUE | Eunpyeong St. Mary's Hospital | 14 | 37.63369  | 126.9165   |\n",
       "| 1000004 | Seoul | Seongdong-gu  | TRUE | Seongdong-gu APT              | 13 | 37.55713  | 127.0403   |\n",
       "| 1000005 | Seoul | Jongno-gu     | TRUE | Jongno Community Center       | 10 | 37.57681  | 127.006    |\n",
       "| 1000006 | Seoul | Jung-gu       | TRUE | Jung-gu Fashion Company       |  7 | 37.562405 | 126.984377 |\n",
       "\n"
      ],
      "text/plain": [
       "  case_id province city          group infection_case                confirmed\n",
       "1 1000001 Seoul    Guro-gu       TRUE  Guro-gu Call Center           79       \n",
       "2 1000002 Seoul    Dongdaemun-gu TRUE  Dongan Church                 24       \n",
       "3 1000003 Seoul    Eunpyeong-gu  TRUE  Eunpyeong St. Mary's Hospital 14       \n",
       "4 1000004 Seoul    Seongdong-gu  TRUE  Seongdong-gu APT              13       \n",
       "5 1000005 Seoul    Jongno-gu     TRUE  Jongno Community Center       10       \n",
       "6 1000006 Seoul    Jung-gu       TRUE  Jung-gu Fashion Company        7       \n",
       "  latitude  longitude \n",
       "1 37.508163 126.884387\n",
       "2 37.592888 127.056766\n",
       "3 37.63369  126.9165  \n",
       "4 37.55713  127.0403  \n",
       "5 37.57681  127.006   \n",
       "6 37.562405 126.984377"
      ]
     },
     "metadata": {},
     "output_type": "display_data"
    }
   ],
   "source": [
    "head(case_dat)"
   ]
  },
  {
   "cell_type": "code",
   "execution_count": null,
   "metadata": {},
   "outputs": [],
   "source": []
  }
 ],
 "metadata": {
  "kernelspec": {
   "display_name": "R",
   "language": "R",
   "name": "ir"
  },
  "language_info": {
   "codemirror_mode": "r",
   "file_extension": ".r",
   "mimetype": "text/x-r-source",
   "name": "R",
   "pygments_lexer": "r",
   "version": "3.6.2"
  },
  "varInspector": {
   "cols": {
    "lenName": 16,
    "lenType": 16,
    "lenVar": 40
   },
   "kernels_config": {
    "python": {
     "delete_cmd_postfix": "",
     "delete_cmd_prefix": "del ",
     "library": "var_list.py",
     "varRefreshCmd": "print(var_dic_list())"
    },
    "r": {
     "delete_cmd_postfix": ") ",
     "delete_cmd_prefix": "rm(",
     "library": "var_list.r",
     "varRefreshCmd": "cat(var_dic_list()) "
    }
   },
   "position": {
    "height": "394px",
    "left": "1097px",
    "right": "20px",
    "top": "163px",
    "width": "421px"
   },
   "types_to_exclude": [
    "module",
    "function",
    "builtin_function_or_method",
    "instance",
    "_Feature"
   ],
   "window_display": false
  }
 },
 "nbformat": 4,
 "nbformat_minor": 4
}
